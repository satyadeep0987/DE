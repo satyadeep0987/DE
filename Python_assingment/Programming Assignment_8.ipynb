{
 "cells": [
  {
   "cell_type": "markdown",
   "id": "9b304197",
   "metadata": {},
   "source": [
    "# Python Basic Programming Assignment 8"
   ]
  },
  {
   "cell_type": "markdown",
   "id": "22789ae6",
   "metadata": {},
   "source": [
    "-------------\n",
    "### 1. Write a Python Program to Add Two Matrices?\n"
   ]
  },
  {
   "cell_type": "code",
   "execution_count": 2,
   "id": "f26dd3f3",
   "metadata": {},
   "outputs": [],
   "source": [
    "mat1 = [[1,2,3],\n",
    "        [6, -4, -9],\n",
    "        [3,6,9]]\n",
    "\n",
    "mat2 = [[6,9,3],\n",
    "        [1,-1,1],\n",
    "        [0, 9, 11]]"
   ]
  },
  {
   "cell_type": "code",
   "execution_count": 18,
   "id": "dbb4e4ba",
   "metadata": {},
   "outputs": [
    {
     "data": {
      "text/plain": [
       "[[7, 11, 6], [7, -5, -8], [3, 15, 20]]"
      ]
     },
     "execution_count": 18,
     "metadata": {},
     "output_type": "execute_result"
    }
   ],
   "source": [
    "result = []\n",
    "\n",
    "for i in range(len(mat1)):\n",
    "    row = []\n",
    "    for j in range(len(mat1)):\n",
    "        row.append(mat1[i][j]+mat2[i][j])\n",
    "        \n",
    "    result.append(row)\n",
    "    \n",
    "result"
   ]
  },
  {
   "cell_type": "markdown",
   "id": "044ceda6",
   "metadata": {},
   "source": [
    "-------------\n",
    "### 2. Write a Python Program to Multiply Two Matrices?"
   ]
  },
  {
   "cell_type": "code",
   "execution_count": 29,
   "id": "334d6268",
   "metadata": {},
   "outputs": [
    {
     "name": "stdout",
     "output_type": "stream",
     "text": [
      "r[0][0] = r[0][0] + a[0][0] * b[0][0]\n",
      "r[0][0] = r[0][0] + a[0][1] * b[1][0]\n",
      "r[0][0] = r[0][0] + a[0][2] * b[2][0]\n",
      "r[0][1] = r[0][1] + a[0][0] * b[0][1]\n",
      "r[0][1] = r[0][1] + a[0][1] * b[1][1]\n",
      "r[0][1] = r[0][1] + a[0][2] * b[2][1]\n",
      "r[0][2] = r[0][2] + a[0][0] * b[0][2]\n",
      "r[0][2] = r[0][2] + a[0][1] * b[1][2]\n",
      "r[0][2] = r[0][2] + a[0][2] * b[2][2]\n",
      "r[0][3] = r[0][3] + a[0][0] * b[0][3]\n",
      "r[0][3] = r[0][3] + a[0][1] * b[1][3]\n",
      "r[0][3] = r[0][3] + a[0][2] * b[2][3]\n",
      "r[1][0] = r[1][0] + a[1][0] * b[0][0]\n",
      "r[1][0] = r[1][0] + a[1][1] * b[1][0]\n",
      "r[1][0] = r[1][0] + a[1][2] * b[2][0]\n",
      "r[1][1] = r[1][1] + a[1][0] * b[0][1]\n",
      "r[1][1] = r[1][1] + a[1][1] * b[1][1]\n",
      "r[1][1] = r[1][1] + a[1][2] * b[2][1]\n",
      "r[1][2] = r[1][2] + a[1][0] * b[0][2]\n",
      "r[1][2] = r[1][2] + a[1][1] * b[1][2]\n",
      "r[1][2] = r[1][2] + a[1][2] * b[2][2]\n",
      "r[1][3] = r[1][3] + a[1][0] * b[0][3]\n",
      "r[1][3] = r[1][3] + a[1][1] * b[1][3]\n",
      "r[1][3] = r[1][3] + a[1][2] * b[2][3]\n",
      "r[2][0] = r[2][0] + a[2][0] * b[0][0]\n",
      "r[2][0] = r[2][0] + a[2][1] * b[1][0]\n",
      "r[2][0] = r[2][0] + a[2][2] * b[2][0]\n",
      "r[2][1] = r[2][1] + a[2][0] * b[0][1]\n",
      "r[2][1] = r[2][1] + a[2][1] * b[1][1]\n",
      "r[2][1] = r[2][1] + a[2][2] * b[2][1]\n",
      "r[2][2] = r[2][2] + a[2][0] * b[0][2]\n",
      "r[2][2] = r[2][2] + a[2][1] * b[1][2]\n",
      "r[2][2] = r[2][2] + a[2][2] * b[2][2]\n",
      "r[2][3] = r[2][3] + a[2][0] * b[0][3]\n",
      "r[2][3] = r[2][3] + a[2][1] * b[1][3]\n",
      "r[2][3] = r[2][3] + a[2][2] * b[2][3]\n",
      "[114, 160, 60, 27]\n",
      "[74, 97, 73, 14]\n",
      "[119, 157, 112, 23]\n"
     ]
    }
   ],
   "source": [
    "# Take 3x3 matrix\n",
    "A = [[12, 7, 3],\n",
    "    [4, 5, 6],\n",
    "    [7, 8, 9]]\n",
    "\n",
    "B = [[5, 8, 1, 2],\n",
    "    [6, 7, 3, 0],\n",
    "    [4, 5, 9, 1]]\n",
    "\n",
    "result = [[0, 0, 0, 0],\n",
    "        [0, 0, 0, 0],\n",
    "        [0, 0, 0, 0]]\n",
    "\n",
    "for i in range(len(result)):\n",
    "    for j in range(len(result[i])):\n",
    "        for k in range(len(A[0])):\n",
    "            print(\"r[{}][{}] = r[{}][{}] + a[{}][{}] * b[{}][{}]\".format(i,j,i,j,i,k,k,j))\n",
    "            result[i][j] += A[i][k]*B[k][j]\n",
    "\n",
    "\n",
    "\n",
    "for r in result:\n",
    "    print(r)\n"
   ]
  },
  {
   "cell_type": "markdown",
   "id": "5f688e46",
   "metadata": {},
   "source": [
    "-------------\n",
    "### 3. Write a Python Program to Transpose a Matrix?"
   ]
  },
  {
   "cell_type": "code",
   "execution_count": 22,
   "id": "a6af3f54",
   "metadata": {},
   "outputs": [
    {
     "name": "stdout",
     "output_type": "stream",
     "text": [
      "[12, 4, 3]\n",
      "[7, 5, 8]\n"
     ]
    }
   ],
   "source": [
    "# Program to transpose a matrix using a nested loop\n",
    "\n",
    "X = [[12,7],\n",
    "    [4 ,5],\n",
    "    [3 ,8]]\n",
    "\n",
    "result = [[0,0,0],\n",
    "         [0,0,0]]\n",
    "\n",
    "# iterating through rows\n",
    "for i in range(len(X)):\n",
    "   # iterating through columns\n",
    "   for j in range(len(X[0])):\n",
    "        result[j][i] = X[i][j]\n",
    "\n",
    "for r in result:\n",
    "    print(r)\n"
   ]
  },
  {
   "cell_type": "markdown",
   "id": "b2849025",
   "metadata": {},
   "source": [
    "------------------\n",
    "### 4. Write a Python Program to Sort Words in Alphabetic Order?\n"
   ]
  },
  {
   "cell_type": "code",
   "execution_count": 27,
   "id": "c030bfb6",
   "metadata": {},
   "outputs": [
    {
     "name": "stdout",
     "output_type": "stream",
     "text": [
      "Enter the words: This is task from the Assignment\n",
      "Sorted order of words:\n",
      "assignment from is task the this "
     ]
    }
   ],
   "source": [
    "try:\n",
    "    sentance = input(\"Enter the words: \")\n",
    "    words = [word.lower() for word in sentance.split()]\n",
    "    words.sort()\n",
    "    \n",
    "    print(\"Sorted order of words:\")\n",
    "    for word in words:\n",
    "        print(word, end = ' ')\n",
    "    \n",
    "except Exception as e:\n",
    "    print(e)"
   ]
  },
  {
   "cell_type": "markdown",
   "id": "48ac7b24",
   "metadata": {},
   "source": [
    "-----------------\n",
    "### 5. Write a Python Program to Remove Punctuation From a String?"
   ]
  },
  {
   "cell_type": "code",
   "execution_count": 28,
   "id": "6c7b2c63",
   "metadata": {},
   "outputs": [
    {
     "name": "stdout",
     "output_type": "stream",
     "text": [
      "Enter the string: Hello, World!!! <HTML> c++; {braces} \\/!@##^&*()( Ending the string now.\n",
      "Hello World HTML c++ braces  Ending the string now\n"
     ]
    }
   ],
   "source": [
    "punctuations = '''!()-[]{};:'\"\\,<>./?@#$%^&*_~'''\n",
    "\n",
    "string = input(\"Enter the string: \")\n",
    "\n",
    "outputString = \"\"\n",
    "\n",
    "for char in string:\n",
    "    if char not in punctuations:\n",
    "        outputString += char\n",
    "        \n",
    "print(outputString)"
   ]
  },
  {
   "cell_type": "code",
   "execution_count": null,
   "id": "111bb7ad",
   "metadata": {},
   "outputs": [],
   "source": []
  }
 ],
 "metadata": {
  "kernelspec": {
   "display_name": "Python 3 (ipykernel)",
   "language": "python",
   "name": "python3"
  },
  "language_info": {
   "codemirror_mode": {
    "name": "ipython",
    "version": 3
   },
   "file_extension": ".py",
   "mimetype": "text/x-python",
   "name": "python",
   "nbconvert_exporter": "python",
   "pygments_lexer": "ipython3",
   "version": "3.11.2"
  }
 },
 "nbformat": 4,
 "nbformat_minor": 5
}
